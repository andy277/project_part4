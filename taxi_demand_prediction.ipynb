{
 "cells": [
  {
   "cell_type": "markdown",
   "id": "c21550be",
   "metadata": {},
   "source": [
    "# Taxi Demand Prediction\n",
    "Using Cross-Validation to Select the Best Model"
   ]
  },
  {
   "cell_type": "code",
   "id": "d4f33cc7",
   "metadata": {
    "jupyter": {
     "is_executing": true
    }
   },
   "source": [
    "\n",
    "import pandas as pd\n",
    "import numpy as np\n",
    "import matplotlib.pyplot as plt\n",
    "from sklearn.model_selection import train_test_split, cross_val_score, KFold\n",
    "from sklearn.linear_model import LinearRegression\n",
    "from sklearn.ensemble import RandomForestRegressor, GradientBoostingRegressor\n",
    "from sklearn.metrics import mean_squared_error, r2_score\n",
    "from sklearn.preprocessing import StandardScaler\n",
    "from tensorflow.keras.models import Sequential\n",
    "from tensorflow.keras.layers import Dense\n",
    "from tensorflow.keras.callbacks import EarlyStopping\n"
   ],
   "outputs": [],
   "execution_count": null
  },
  {
   "cell_type": "code",
   "id": "2785dfb7",
   "metadata": {},
   "source": [
    "\n",
    "# Load data\n",
    "df = pd.read_csv(\"data/joined_data.csv\")\n",
    "df['Date'] = pd.to_datetime(df['Date'], format='%d-%b-%y')\n",
    "\n",
    "# Group by date and type\n",
    "grouped_data = df.groupby(['Date', 'Type']).size().reset_index(name='cab_count')\n",
    "pivot_df = grouped_data.pivot(index='Date', columns='Type', values='cab_count').fillna(0).reset_index()\n",
    "\n",
    "# Feature engineering\n",
    "pivot_df['day_of_week'] = pivot_df['Date'].dt.dayofweek\n",
    "pivot_df['month'] = pivot_df['Date'].dt.month\n",
    "pivot_df['day'] = pivot_df['Date'].dt.day\n",
    "\n",
    "# Define features and target\n",
    "features = ['Ride Share', 'day_of_week', 'month', 'day']\n",
    "target = 'Taxi'\n",
    "X = pivot_df[features]\n",
    "y = pivot_df[target]\n"
   ],
   "outputs": [],
   "execution_count": null
  },
  {
   "cell_type": "code",
   "id": "256a7d71",
   "metadata": {},
   "source": [
    "\n",
    "# CV for traditional models\n",
    "lr_cv = cross_val_score(LinearRegression(), X, y, cv=5, scoring='neg_mean_squared_error')\n",
    "rf_cv = cross_val_score(RandomForestRegressor(n_estimators=100, random_state=42), X, y, cv=5, scoring='neg_mean_squared_error')\n",
    "xgb_cv = cross_val_score(GradientBoostingRegressor(n_estimators=100, random_state=42), X, y, cv=5, scoring='neg_mean_squared_error')\n",
    "\n",
    "lr_cv_rmse = np.sqrt(-lr_cv.mean())\n",
    "rf_cv_rmse = np.sqrt(-rf_cv.mean())\n",
    "xgb_cv_rmse = np.sqrt(-xgb_cv.mean())\n"
   ],
   "outputs": [],
   "execution_count": null
  },
  {
   "cell_type": "code",
   "id": "bcbae055",
   "metadata": {},
   "source": [
    "\n",
    "print(\"Neural Network Cross-Validation:\")\n",
    "scaler = StandardScaler()\n",
    "X_scaled = scaler.fit_transform(X)\n",
    "kf = KFold(n_splits=5, shuffle=False)\n",
    "nn_rmse_scores = []\n",
    "\n",
    "for fold, (train_idx, val_idx) in enumerate(kf.split(X_scaled)):\n",
    "    X_train_fold, X_val_fold = X_scaled[train_idx], X_scaled[val_idx]\n",
    "    y_train_fold, y_val_fold = y.values[train_idx], y.values[val_idx]\n",
    "\n",
    "    model = Sequential([\n",
    "        Dense(64, activation='relu', input_shape=(X_train_fold.shape[1],)),\n",
    "        Dense(32, activation='relu'),\n",
    "        Dense(1)\n",
    "    ])\n",
    "    model.compile(optimizer='adam', loss='mse')\n",
    "    early_stop = EarlyStopping(monitor='val_loss', patience=10, restore_best_weights=True)\n",
    "    model.fit(X_train_fold, y_train_fold, validation_data=(X_val_fold, y_val_fold),\n",
    "              epochs=100, batch_size=8, callbacks=[early_stop], verbose=0)\n",
    "\n",
    "    preds = model.predict(X_val_fold).flatten()\n",
    "    rmse = np.sqrt(mean_squared_error(y_val_fold, preds))\n",
    "    nn_rmse_scores.append(rmse)\n",
    "    print(f\"Fold {fold+1} RMSE: {rmse:.2f}\")\n",
    "\n",
    "mean_nn_rmse = np.mean(nn_rmse_scores)\n"
   ],
   "outputs": [],
   "execution_count": null
  },
  {
   "cell_type": "code",
   "id": "f36330cf",
   "metadata": {},
   "source": [
    "\n",
    "# Compare all models\n",
    "all_models = [\n",
    "    (\"Linear Regression\", lr_cv_rmse),\n",
    "    (\"Random Forest\", rf_cv_rmse),\n",
    "    (\"XGBoost\", xgb_cv_rmse),\n",
    "    (\"Neural Network\", mean_nn_rmse)\n",
    "]\n",
    "\n",
    "# Show all RMSE values for comparison\n",
    "print(\"Cross-Validated RMSE (5-fold):\")\n",
    "print(f\"Linear Regression: {lr_cv_rmse:.2f}\")\n",
    "print(f\"Random Forest: {rf_cv_rmse:.2f}\")\n",
    "print(f\"XGBoost: {xgb_cv_rmse:.2f}\")\n",
    "print(f\"Neural Network: {mean_nn_rmse:.2f}\")\n",
    "\n",
    "best_model_name, best_model_rmse = min(all_models, key=lambda x: x[1])\n",
    "print(f\"Best Model: {best_model_name} (RMSE = {best_model_rmse:.2f})\")\n"
   ],
   "outputs": [],
   "execution_count": null
  },
  {
   "cell_type": "code",
   "id": "4c46e9d6",
   "metadata": {},
   "source": [
    "\n",
    "# Final train-test split\n",
    "X_train, X_test, y_train, y_test = train_test_split(X, y, test_size=0.2, shuffle=False, random_state=42)\n",
    "X_train_scaled = scaler.fit_transform(X_train)\n",
    "X_test_scaled = scaler.transform(X_test)\n",
    "\n",
    "if best_model_name == \"Neural Network\":\n",
    "    final_model = Sequential([\n",
    "        Dense(64, activation='relu', input_shape=(X_train_scaled.shape[1],)),\n",
    "        Dense(32, activation='relu'),\n",
    "        Dense(1)\n",
    "    ])\n",
    "    final_model.compile(optimizer='adam', loss='mse')\n",
    "    final_model.fit(X_train_scaled, y_train, validation_split=0.2,\n",
    "                    epochs=100, batch_size=8, callbacks=[EarlyStopping(monitor='val_loss', patience=10, restore_best_weights=True)], verbose=0)\n",
    "    final_preds = final_model.predict(X_test_scaled).flatten()\n",
    "else:\n",
    "    model_map = {\n",
    "        \"Linear Regression\": LinearRegression(),\n",
    "        \"Random Forest\": RandomForestRegressor(n_estimators=100, random_state=42),\n",
    "        \"XGBoost\": GradientBoostingRegressor(n_estimators=100, random_state=42)\n",
    "    }\n",
    "    final_model = model_map[best_model_name]\n",
    "    final_model.fit(X_train, y_train)\n",
    "    final_preds = final_model.predict(X_test)\n",
    "\n",
    "rmse = np.sqrt(mean_squared_error(y_test, final_preds))\n",
    "r2 = r2_score(y_test, final_preds)\n",
    "print(f\"Final Model Evaluation: RMSE = {rmse:.2f}, R2 = {r2:.2f}\")\n"
   ],
   "outputs": [],
   "execution_count": null
  },
  {
   "cell_type": "code",
   "id": "9dd203f5",
   "metadata": {},
   "source": [
    "\n",
    "# Visualization\n",
    "plt.figure(figsize=(12, 6))\n",
    "plt.plot(pivot_df['Date'].iloc[-len(y_test):], y_test.values, label='Actual', marker='o')\n",
    "plt.plot(pivot_df['Date'].iloc[-len(y_test):], final_preds, label='Predicted', linestyle='--', marker='x')\n",
    "plt.title(f\"Actual vs Predicted Taxi Count ({best_model_name})\")\n",
    "plt.xlabel(\"Date\")\n",
    "plt.ylabel(\"Number of Taxis Needed\")\n",
    "plt.legend()\n",
    "plt.grid(True)\n",
    "plt.xticks(rotation=45)\n",
    "plt.tight_layout()\n",
    "plt.show()\n"
   ],
   "outputs": [],
   "execution_count": null
  },
  {
   "metadata": {},
   "cell_type": "markdown",
   "source": [
    "## Citation\n",
    "ChatGPT: https://chatgpt.com/\n",
    "\n",
    "TensorFlow: https://www.tensorflow.org/guide/keras\n"
   ],
   "id": "77ff8954bece3de7"
  },
  {
   "metadata": {},
   "cell_type": "code",
   "outputs": [],
   "execution_count": null,
   "source": "",
   "id": "748e83a4cd6c0c5"
  }
 ],
 "metadata": {
  "kernelspec": {
   "name": "python3",
   "language": "python",
   "display_name": "Python 3 (ipykernel)"
  }
 },
 "nbformat": 4,
 "nbformat_minor": 5
}
